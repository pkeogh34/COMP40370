{
 "cells": [
  {
   "cell_type": "code",
   "execution_count": 56,
   "id": "73cd00aa",
   "metadata": {},
   "outputs": [],
   "source": [
    "import pandas as pd\n",
    "import matplotlib.pyplot as plt\n",
    "import seaborn as sns\n",
    "from sklearn.model_selection import train_test_split\n",
    "from sklearn.metrics import mean_squared_error\n",
    "from sklearn.impute import SimpleImputer\n",
    "import numpy as np"
   ]
  },
  {
   "cell_type": "markdown",
   "id": "fb3bee0b",
   "metadata": {},
   "source": [
    "# Question 1: Data Exploration\n",
    "### I) Descriptive statistics"
   ]
  },
  {
   "cell_type": "code",
   "execution_count": 57,
   "id": "6bdfce2f",
   "metadata": {},
   "outputs": [],
   "source": [
    "file_path = 'diabetes.csv'\n",
    "# 1. Read the CSV file into a Pandas DataFrame\n",
    "df = pd.read_csv(file_path)"
   ]
  },
  {
   "cell_type": "code",
   "execution_count": 58,
   "id": "09e49a22",
   "metadata": {},
   "outputs": [
    {
     "name": "stdout",
     "output_type": "stream",
     "text": [
      "Number of rows: 788\n",
      "Number of columns: 9\n"
     ]
    }
   ],
   "source": [
    "# 2. Get the number of rows and columns\n",
    "num_rows, num_columns = df.shape\n",
    "\n",
    "print(f'Number of rows: {num_rows}')\n",
    "print(f'Number of columns: {num_columns}')"
   ]
  },
  {
   "cell_type": "code",
   "execution_count": 59,
   "id": "6a2bfed9",
   "metadata": {},
   "outputs": [
    {
     "name": "stdout",
     "output_type": "stream",
     "text": [
      "Minimum age: 12\n",
      "Maximum age: 81\n",
      "Mean age: 33.21573604060914\n",
      "Standard deviation of age: 11.819874550957666\n"
     ]
    }
   ],
   "source": [
    "# 3. Calculate min, max, mean, and std of the 'age' column\n",
    "age_min = df['Age'].min()\n",
    "age_max = df['Age'].max()\n",
    "age_mean = df['Age'].mean()\n",
    "age_std = df['Age'].std()\n",
    "\n",
    "print(f'Minimum age: {age_min}')\n",
    "print(f'Maximum age: {age_max}')\n",
    "print(f'Mean age: {age_mean}')\n",
    "print(f'Standard deviation of age: {age_std}')"
   ]
  },
  {
   "cell_type": "code",
   "execution_count": 60,
   "id": "eae109f2",
   "metadata": {},
   "outputs": [
    {
     "name": "stdout",
     "output_type": "stream",
     "text": [
      "<class 'pandas.core.series.Series'>\n",
      "The data is unimodal (has one mode).\n"
     ]
    }
   ],
   "source": [
    "# 4. Calculate the mode of the 'age' column\n",
    "age_modes = df['Age'].mode()\n",
    "print(type(age_modes))\n",
    "# Comment on the modality of the data\n",
    "if len(age_modes) == 1:\n",
    "    print('The data is unimodal (has one mode).')\n",
    "elif len(age_modes) == 2:\n",
    "    print('The data is bimodal (has two modes).')\n",
    "else:\n",
    "    print(f'The data is multimodal (has {len(age_modes)} modes).')"
   ]
  },
  {
   "cell_type": "code",
   "execution_count": 61,
   "id": "8d1501fb",
   "metadata": {},
   "outputs": [
    {
     "name": "stdout",
     "output_type": "stream",
     "text": [
      "First Quartile (Q1): 24.0\n",
      "Third Quartile (Q3): 41.0\n"
     ]
    }
   ],
   "source": [
    "# 5. Calculate the first quartile (Q1) and the third quartile (Q3) of the 'age' column\n",
    "Q1 = df['Age'].quantile(0.25)\n",
    "Q3 = df['Age'].quantile(0.75)\n",
    "print(f'First Quartile (Q1): {Q1}')\n",
    "print(f'Third Quartile (Q3): {Q3}')"
   ]
  },
  {
   "cell_type": "code",
   "execution_count": 62,
   "id": "067880e7",
   "metadata": {},
   "outputs": [
    {
     "name": "stdout",
     "output_type": "stream",
     "text": [
      "Interquartile Range (IQR): 17.0\n"
     ]
    }
   ],
   "source": [
    "# 6. Calculate the Interquartile Range (IQR) of the 'age' column\n",
    "IQR = Q3 - Q1\n",
    "print(f'Interquartile Range (IQR): {IQR}')"
   ]
  },
  {
   "cell_type": "code",
   "execution_count": 63,
   "id": "1cb50841",
   "metadata": {},
   "outputs": [
    {
     "name": "stdout",
     "output_type": "stream",
     "text": [
      "Minimum age: 12\n",
      "First Quartile (Q1): 24.0\n",
      "Median (Q2): 29.0\n",
      "Third Quartile (Q3): 41.0\n",
      "Maximum age: 81\n"
     ]
    }
   ],
   "source": [
    "# 7. Print the five-number summary of the 'age' column\n",
    "print(f'Minimum age: {age_min}')\n",
    "print(f'First Quartile (Q1): {Q1}')\n",
    "print(f'Median (Q2): {df[\"Age\"].median()}')\n",
    "print(f'Third Quartile (Q3): {Q3}')\n",
    "print(f'Maximum age: {age_max}')"
   ]
  },
  {
   "cell_type": "markdown",
   "id": "4c127b91",
   "metadata": {},
   "source": [
    "### II) Data visualisation"
   ]
  },
  {
   "cell_type": "code",
   "execution_count": 64,
   "id": "2cc2577d",
   "metadata": {},
   "outputs": [
    {
     "data": {
      "image/png": "[encoded data removed]",
      "text/plain": [
       "<Figure size 432x288 with 1 Axes>"
      ]
     },
     "metadata": {
      "needs_background": "light"
     },
     "output_type": "display_data"
    }
   ],
   "source": [
    "# 1. Show a boxplot of the ‘age’ column.\n",
    "sns.boxplot(x=df['Age'])\n",
    "plt.title('Boxplot of Age')\n",
    "plt.show()"
   ]
  },
  {
   "cell_type": "code",
   "execution_count": 65,
   "id": "54f66e99",
   "metadata": {},
   "outputs": [
    {
     "data": {
      "image/png": "[encoded data removed]",
      "text/plain": [
       "<Figure size 432x288 with 1 Axes>"
      ]
     },
     "metadata": {
      "needs_background": "light"
     },
     "output_type": "display_data"
    }
   ],
   "source": [
    "# 2. Show a boxplot of the ‘age’ column of the diabetic and no-diabetic groups side by side.\n",
    "sns.boxplot(x=df['Outcome'], y=df['Age'])\n",
    "plt.title('Boxplot of Age for Diabetic and Non-Diabetic Groups')\n",
    "plt.xticks(ticks=[0,1], labels=['No','Yes'])\n",
    "plt.xlabel('Diabetic')\n",
    "plt.ylabel(\"Patient's age\")\n",
    "plt.show()"
   ]
  },
  {
   "cell_type": "markdown",
   "id": "a80db0f5",
   "metadata": {},
   "source": [
    "##### 3. Based on the boxplot of question 2, analyse the relationship between the patient’s age and being diabetic.\n",
    "As you can see from the boxplot, the risk od developing diabetes increases with age"
   ]
  },
  {
   "cell_type": "code",
   "execution_count": 66,
   "id": "96bb52e3",
   "metadata": {},
   "outputs": [
    {
     "data": {
      "image/png": "[encoded data removed]",
      "text/plain": [
       "<Figure size 432x288 with 1 Axes>"
      ]
     },
     "metadata": {
      "needs_background": "light"
     },
     "output_type": "display_data"
    }
   ],
   "source": [
    "# 4. Show a scatter plot with the patient’s Blood pressure on the x-axis and the patient’s BMI on the y-axis.\n",
    "sns.scatterplot(x=df['BloodPressure'], y=df['BMI'])\n",
    "plt.title('Scatter plot of Blood Pressure vs. BMI')\n",
    "plt.xlabel(\"Blood Pressure\")\n",
    "plt.ylabel(\"BMI\")\n",
    "plt.show()"
   ]
  },
  {
   "cell_type": "code",
   "execution_count": 67,
   "id": "a1dc8380",
   "metadata": {},
   "outputs": [
    {
     "data": {
      "image/png": "[encoded data removed]",
      "text/plain": [
       "<Figure size 432x288 with 1 Axes>"
      ]
     },
     "metadata": {
      "needs_background": "light"
     },
     "output_type": "display_data"
    }
   ],
   "source": [
    "# 5. Show a scatter plot with the patient’s Blood pressure on the x-axis and the patient’s BMI on the y-axis, \n",
    "# highlighting diabetic patients with different colors.\n",
    "sns.scatterplot(x=df['BloodPressure'], y=df['BMI'], hue=df['Outcome'], palette={0:\"blue\", 1:\"red\"}, legend=\"full\")\n",
    "plt.title('Scatter plot of Blood Pressure vs. BMI with Diabetic Highlight')\n",
    "plt.xlabel(\"Blood Pressure\")\n",
    "plt.ylabel(\"BMI\")\n",
    "plt.legend(title='Diabetic', labels=['Yes', 'No'])\n",
    "plt.show()"
   ]
  },
  {
   "cell_type": "markdown",
   "id": "ff2ab536",
   "metadata": {},
   "source": [
    "##### 6. Based on the scatterplot of question 5, analyse the relationship between BMI/Blood pressure and diabetes.\n",
    "Based on the scatterplot we can see that as both BMI and BP increases so does the risk of diabetes"
   ]
  },
  {
   "cell_type": "markdown",
   "id": "49bfe897",
   "metadata": {},
   "source": [
    "### III) Data filtering"
   ]
  },
  {
   "cell_type": "code",
   "execution_count": 68,
   "id": "5cd3cedf",
   "metadata": {},
   "outputs": [
    {
     "name": "stdout",
     "output_type": "stream",
     "text": [
      "1    12\n",
      "0     8\n",
      "Name: Outcome, dtype: int64\n"
     ]
    }
   ],
   "source": [
    "# 1. Select all patients with Insulin more than 400. \n",
    "# How many patients are diabetic/no-diabetic among those selected?\n",
    "insulin_400 = df[df['Insulin'] > 400]\n",
    "print(insulin_400['Outcome'].value_counts())"
   ]
  },
  {
   "cell_type": "code",
   "execution_count": 69,
   "id": "ad1638e4",
   "metadata": {},
   "outputs": [
    {
     "name": "stdout",
     "output_type": "stream",
     "text": [
      "1    5\n",
      "0    1\n",
      "Name: Outcome, dtype: int64\n"
     ]
    }
   ],
   "source": [
    "# 2. Select all patients with Insulin greater than 400 and Glucose greater than 175. \n",
    "# How many patients are diabetic/no-diabetic among those selected?\n",
    "insulin_glucose_filtered = df[(df['Insulin'] > 400) & (df['Glucose'] > 175)]\n",
    "print(insulin_glucose_filtered['Outcome'].value_counts())"
   ]
  },
  {
   "cell_type": "code",
   "execution_count": 70,
   "id": "33b56406",
   "metadata": {},
   "outputs": [
    {
     "name": "stdout",
     "output_type": "stream",
     "text": [
      "Average Glucose: 135.36986301369862\n"
     ]
    }
   ],
   "source": [
    "# 3. What is the average Glucose level of a patient with more than 5 pregnancies and older than 45?\n",
    "avg_glucose = df[(df['Pregnancies'] > 5) & (df['Age'] > 45)]['Glucose'].mean()\n",
    "print(\"Average Glucose:\", avg_glucose)"
   ]
  },
  {
   "cell_type": "code",
   "execution_count": 71,
   "id": "6dc0a6a1",
   "metadata": {},
   "outputs": [
    {
     "name": "stdout",
     "output_type": "stream",
     "text": [
      "17\n"
     ]
    }
   ],
   "source": [
    "# 4. Count the distinct values in the ‘pregnancies’ column.\n",
    "print(df['Pregnancies'].nunique())"
   ]
  },
  {
   "cell_type": "code",
   "execution_count": 72,
   "id": "af93e34b",
   "metadata": {},
   "outputs": [
    {
     "name": "stdout",
     "output_type": "stream",
     "text": [
      "Pregnancies\tOutcome\n",
      "0\t0\t66.07%\n",
      "\t1\t33.93%\n",
      "1\t0\t77.30%\n",
      "\t1\t22.70%\n",
      "2\t0\t82.41%\n",
      "\t1\t17.59%\n",
      "3\t0\t64.47%\n",
      "\t1\t35.53%\n",
      "4\t0\t66.67%\n",
      "\t1\t33.33%\n",
      "5\t0\t63.79%\n",
      "\t1\t36.21%\n",
      "6\t0\t68.00%\n",
      "\t1\t32.00%\n",
      "7\t0\t43.48%\n",
      "\t1\t56.52%\n",
      "8\t0\t45.00%\n",
      "\t1\t55.00%\n",
      "9\t0\t34.48%\n",
      "\t1\t65.52%\n",
      "10\t0\t58.33%\n",
      "\t1\t41.67%\n",
      "11\t0\t36.36%\n",
      "\t1\t63.64%\n",
      "12\t0\t55.56%\n",
      "\t1\t44.44%\n",
      "13\t0\t45.45%\n",
      "\t1\t54.55%\n",
      "14\t0\t0.00%\n",
      "\t1\t100.00%\n",
      "15\t0\t0.00%\n",
      "\t1\t100.00%\n",
      "17\t0\t0.00%\n",
      "\t1\t100.00%\n"
     ]
    }
   ],
   "source": [
    "# 5. List the distinct values of the ‘pregnancies’ column along with the percentage of diabetic/no-diabetic of each value.\n",
    "pregnancies_values = sorted(df['Pregnancies'].unique())\n",
    "print(\"Pregnancies\", \"Outcome\", sep=\"\\t\")\n",
    "\n",
    "for value in pregnancies_values:\n",
    "    subset = df[df['Pregnancies'] == value]\n",
    "    total = len(subset)\n",
    "\n",
    "    diabetic_count = len(subset[subset['Outcome'] == 1])\n",
    "    non_diabetic_count = len(subset[subset['Outcome'] == 0])\n",
    "\n",
    "    diabetic_percent = (diabetic_count / total) * 100\n",
    "    non_diabetic_percent = (non_diabetic_count / total) * 100\n",
    "\n",
    "    # Displaying the results\n",
    "    print(value, 0, f\"{non_diabetic_percent:.2f}%\", sep=\"\\t\")\n",
    "    print(\"\", 1, f\"{diabetic_percent:.2f}%\", sep=\"\\t\")"
   ]
  },
  {
   "cell_type": "markdown",
   "id": "6db608ec",
   "metadata": {},
   "source": [
    "# Question 2: Data Cleaning\n",
    "### I) Duplicated removal"
   ]
  },
  {
   "cell_type": "code",
   "execution_count": 73,
   "id": "d065d55d",
   "metadata": {},
   "outputs": [
    {
     "name": "stdout",
     "output_type": "stream",
     "text": [
      "0      False\n",
      "1      False\n",
      "2      False\n",
      "3      False\n",
      "4      False\n",
      "       ...  \n",
      "783     True\n",
      "784     True\n",
      "785     True\n",
      "786     True\n",
      "787     True\n",
      "Length: 788, dtype: bool\n"
     ]
    }
   ],
   "source": [
    "# 1. Identify any duplicated records by printing “True” if the row is duplicated and “False” otherwise\n",
    "print(df.duplicated())"
   ]
  },
  {
   "cell_type": "code",
   "execution_count": 74,
   "id": "46fdbf6c",
   "metadata": {},
   "outputs": [],
   "source": [
    "# 2. For all duplicated records, keep one record and remove its duplicates.\n",
    "df = df.drop_duplicates()"
   ]
  },
  {
   "cell_type": "code",
   "execution_count": 75,
   "id": "0f235a1a",
   "metadata": {},
   "outputs": [
    {
     "name": "stdout",
     "output_type": "stream",
     "text": [
      "(768, 9)\n"
     ]
    }
   ],
   "source": [
    "# 3. What is the dimension of the data frame after removing the duplicates?\n",
    "print(df.shape)"
   ]
  },
  {
   "cell_type": "code",
   "execution_count": 76,
   "id": "5f073db8",
   "metadata": {},
   "outputs": [
    {
     "name": "stdout",
     "output_type": "stream",
     "text": [
      "20\n"
     ]
    }
   ],
   "source": [
    "# 4. How many duplicated rows were there (before removing the duplicates)?\n",
    "number_of_duplicates = pd.read_csv(file_path).duplicated().sum()\n",
    "print(number_of_duplicates)"
   ]
  },
  {
   "cell_type": "markdown",
   "id": "f364078f",
   "metadata": {},
   "source": [
    "# II) Missing values"
   ]
  },
  {
   "cell_type": "code",
   "execution_count": 77,
   "id": "cde29b7a",
   "metadata": {},
   "outputs": [
    {
     "name": "stdout",
     "output_type": "stream",
     "text": [
      "23\n"
     ]
    }
   ],
   "source": [
    "# 1. How many missing values are in the “blood pressure” column?\n",
    "print(df['BloodPressure'].isnull().sum())"
   ]
  },
  {
   "cell_type": "code",
   "execution_count": 78,
   "id": "3a124157",
   "metadata": {},
   "outputs": [],
   "source": [
    "# 2. Remove the missing records in the “blood pressure” column.\n",
    "df = df.dropna(subset=['BloodPressure']) "
   ]
  },
  {
   "cell_type": "code",
   "execution_count": 79,
   "id": "a3958f2f",
   "metadata": {},
   "outputs": [],
   "source": [
    "# 3. Copy the following columns into a separate data frame.\n",
    "selected_columns = ['Pregnancies', 'Glucose', 'BloodPressure', 'SkinThickness', 'Insulin', 'BMI', 'DiabetesPedigreeFunction', 'Age']\n",
    "df_selected = df[selected_columns].copy()"
   ]
  },
  {
   "cell_type": "code",
   "execution_count": 80,
   "id": "b6060358",
   "metadata": {},
   "outputs": [],
   "source": [
    "# 4. Use sklearn’s train_test_split function to split the data into 90% training set and 10% testing set.\n",
    "X_train, X_test = train_test_split(df, test_size=0.1, random_state=42)"
   ]
  },
  {
   "cell_type": "code",
   "execution_count": 81,
   "id": "6df579d6",
   "metadata": {},
   "outputs": [],
   "source": [
    "# 5. Keep a separate copy of the testing set (evaluation copy) and set all the Glucose to null in the original testing set.\n",
    "X_test_eval = X_test.copy()\n",
    "X_test['Glucose'] = np.nan"
   ]
  },
  {
   "cell_type": "code",
   "execution_count": 82,
   "id": "1afdd2e8",
   "metadata": {},
   "outputs": [
    {
     "name": "stdout",
     "output_type": "stream",
     "text": [
      "34.08851888719681\n"
     ]
    }
   ],
   "source": [
    "# 6. Fill in the missing values of the test set based on the mean of the Glucose of the training set and calculate RMSE.\n",
    "mean_glucose = X_train['Glucose'].mean()\n",
    "X_test['Glucose'].fillna(mean_glucose, inplace=True)\n",
    "rmse_mean = mean_squared_error(X_test_eval['Glucose'], X_test['Glucose'], squared=False)\n",
    "print(rmse_mean)"
   ]
  },
  {
   "cell_type": "code",
   "execution_count": 83,
   "id": "03fe4d87",
   "metadata": {},
   "outputs": [
    {
     "name": "stdout",
     "output_type": "stream",
     "text": [
      "34.43486605172147\n"
     ]
    }
   ],
   "source": [
    "# 7. Fill in the missing values of the test set based on the median of the Glucose and calculate RMSE.\n",
    "X_test['Glucose'] = np.nan\n",
    "median_glucose = X_train['Glucose'].median()\n",
    "X_test['Glucose'].fillna(median_glucose, inplace=True)\n",
    "rmse_median = mean_squared_error(X_test_eval['Glucose'], X_test['Glucose'], squared=False)\n",
    "print(rmse_median)"
   ]
  },
  {
   "cell_type": "code",
   "execution_count": 84,
   "id": "ad4bf1db",
   "metadata": {},
   "outputs": [
    {
     "name": "stdout",
     "output_type": "stream",
     "text": [
      "41.11252850409471\n"
     ]
    }
   ],
   "source": [
    "# 8. Use scikit-learn SimpleImputer with the 'most_frequent' strategy to impute the value of glucose in the testing set and calculate RMSE.\n",
    "X_test['Glucose'] = np.nan\n",
    "imputer = SimpleImputer(strategy='most_frequent')\n",
    "imputer.fit(X_train[['Glucose']])\n",
    "X_test['Glucose'] = imputer.transform(X_test[['Glucose']]).ravel()\n",
    "rmse_most_frequent = mean_squared_error(X_test_eval['Glucose'], X_test['Glucose'], squared=False)\n",
    "print(rmse_most_frequent)"
   ]
  }
 ],
 "metadata": {
  "kernelspec": {
   "display_name": "Python 3 (ipykernel)",
   "language": "python",
   "name": "python3"
  },
  "language_info": {
   "codemirror_mode": {
    "name": "ipython",
    "version": 3
   },
   "file_extension": ".py",
   "mimetype": "text/x-python",
   "name": "python",
   "nbconvert_exporter": "python",
   "pygments_lexer": "ipython3",
   "version": "3.9.12"
  }
 },
 "nbformat": 4,
 "nbformat_minor": 5
}
