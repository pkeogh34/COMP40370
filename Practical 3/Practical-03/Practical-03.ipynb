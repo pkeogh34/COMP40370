{
 "cells": [
  {
   "cell_type": "markdown",
   "id": "63570200",
   "metadata": {},
   "source": [
    "# Data Mining Practical-03-A\n",
    "\n",
    "**Student name:** Patrick Keogh\n",
    "\n",
    "**Student number:** 19321326"
   ]
  },
  {
   "cell_type": "markdown",
   "id": "21e1d3d9",
   "metadata": {},
   "source": [
    "## Part A: Regression Analysis "
   ]
  },
  {
   "cell_type": "code",
   "execution_count": 1,
   "id": "87700573",
   "metadata": {},
   "outputs": [],
   "source": [
    "import pandas as pd\n",
    "import numpy as np\n",
    "import seaborn as sns\n",
    "import matplotlib.pyplot as plt\n",
    "from sklearn.model_selection import train_test_split\n",
    "from sklearn.linear_model import LinearRegression\n",
    "from sklearn.metrics import mean_squared_error, r2_score\n",
    "from sklearn.preprocessing import PolynomialFeatures\n",
    "from sklearn.pipeline import make_pipeline\n",
    "from scipy import stats\n",
    "from IPython.display import display, HTML"
   ]
  },
  {
   "cell_type": "code",
   "execution_count": 2,
   "id": "a8df80ec",
   "metadata": {},
   "outputs": [
    {
     "data": {
      "text/html": [
       "<div>\n",
       "<style scoped>\n",
       "    .dataframe tbody tr th:only-of-type {\n",
       "        vertical-align: middle;\n",
       "    }\n",
       "\n",
       "    .dataframe tbody tr th {\n",
       "        vertical-align: top;\n",
       "    }\n",
       "\n",
       "    .dataframe thead th {\n",
       "        text-align: right;\n",
       "    }\n",
       "</style>\n",
       "<table border=\"1\" class=\"dataframe\">\n",
       "  <thead>\n",
       "    <tr style=\"text-align: right;\">\n",
       "      <th></th>\n",
       "      <th>horsepower</th>\n",
       "      <th>mpg</th>\n",
       "      <th>cylinders</th>\n",
       "      <th>displacement</th>\n",
       "      <th>weight</th>\n",
       "      <th>acceleration</th>\n",
       "      <th>model year</th>\n",
       "      <th>origin</th>\n",
       "      <th>car name</th>\n",
       "    </tr>\n",
       "  </thead>\n",
       "  <tbody>\n",
       "    <tr>\n",
       "      <th>0</th>\n",
       "      <td>130.0</td>\n",
       "      <td>18.0</td>\n",
       "      <td>8</td>\n",
       "      <td>307.0</td>\n",
       "      <td>3504</td>\n",
       "      <td>12.0</td>\n",
       "      <td>70</td>\n",
       "      <td>1.0</td>\n",
       "      <td>chevrolet chevelle malibu</td>\n",
       "    </tr>\n",
       "    <tr>\n",
       "      <th>1</th>\n",
       "      <td>165.0</td>\n",
       "      <td>15.0</td>\n",
       "      <td>8</td>\n",
       "      <td>350.0</td>\n",
       "      <td>3693</td>\n",
       "      <td>11.5</td>\n",
       "      <td>70</td>\n",
       "      <td>1.0</td>\n",
       "      <td>buick skylark 320</td>\n",
       "    </tr>\n",
       "    <tr>\n",
       "      <th>2</th>\n",
       "      <td>150.0</td>\n",
       "      <td>18.0</td>\n",
       "      <td>8</td>\n",
       "      <td>318.0</td>\n",
       "      <td>3436</td>\n",
       "      <td>11.0</td>\n",
       "      <td>70</td>\n",
       "      <td>1.0</td>\n",
       "      <td>plymouth satellite</td>\n",
       "    </tr>\n",
       "    <tr>\n",
       "      <th>3</th>\n",
       "      <td>150.0</td>\n",
       "      <td>16.0</td>\n",
       "      <td>8</td>\n",
       "      <td>304.0</td>\n",
       "      <td>3433</td>\n",
       "      <td>12.0</td>\n",
       "      <td>70</td>\n",
       "      <td>1.0</td>\n",
       "      <td>amc rebel sst</td>\n",
       "    </tr>\n",
       "    <tr>\n",
       "      <th>4</th>\n",
       "      <td>140.0</td>\n",
       "      <td>17.0</td>\n",
       "      <td>8</td>\n",
       "      <td>302.0</td>\n",
       "      <td>3449</td>\n",
       "      <td>10.5</td>\n",
       "      <td>70</td>\n",
       "      <td>1.0</td>\n",
       "      <td>ford torino</td>\n",
       "    </tr>\n",
       "    <tr>\n",
       "      <th>...</th>\n",
       "      <td>...</td>\n",
       "      <td>...</td>\n",
       "      <td>...</td>\n",
       "      <td>...</td>\n",
       "      <td>...</td>\n",
       "      <td>...</td>\n",
       "      <td>...</td>\n",
       "      <td>...</td>\n",
       "      <td>...</td>\n",
       "    </tr>\n",
       "    <tr>\n",
       "      <th>397</th>\n",
       "      <td>52.0</td>\n",
       "      <td>44.0</td>\n",
       "      <td>4</td>\n",
       "      <td>97.0</td>\n",
       "      <td>2130</td>\n",
       "      <td>24.6</td>\n",
       "      <td>82</td>\n",
       "      <td>2.0</td>\n",
       "      <td>vw pickup</td>\n",
       "    </tr>\n",
       "    <tr>\n",
       "      <th>398</th>\n",
       "      <td>84.0</td>\n",
       "      <td>32.0</td>\n",
       "      <td>4</td>\n",
       "      <td>135.0</td>\n",
       "      <td>2295</td>\n",
       "      <td>11.6</td>\n",
       "      <td>82</td>\n",
       "      <td>1.0</td>\n",
       "      <td>dodge rampage</td>\n",
       "    </tr>\n",
       "    <tr>\n",
       "      <th>399</th>\n",
       "      <td>79.0</td>\n",
       "      <td>28.0</td>\n",
       "      <td>4</td>\n",
       "      <td>120.0</td>\n",
       "      <td>2625</td>\n",
       "      <td>18.6</td>\n",
       "      <td>82</td>\n",
       "      <td>1.0</td>\n",
       "      <td>ford ranger</td>\n",
       "    </tr>\n",
       "    <tr>\n",
       "      <th>400</th>\n",
       "      <td>82.0</td>\n",
       "      <td>31.0</td>\n",
       "      <td>4</td>\n",
       "      <td>119.0</td>\n",
       "      <td>2720</td>\n",
       "      <td>19.4</td>\n",
       "      <td>82</td>\n",
       "      <td>1.0</td>\n",
       "      <td>chevy s-10</td>\n",
       "    </tr>\n",
       "    <tr>\n",
       "      <th>401</th>\n",
       "      <td>160.0</td>\n",
       "      <td>14.0</td>\n",
       "      <td>8</td>\n",
       "      <td>340.0</td>\n",
       "      <td>3609</td>\n",
       "      <td>8.0</td>\n",
       "      <td>70</td>\n",
       "      <td>1.0</td>\n",
       "      <td>plymouth 'cuda 340</td>\n",
       "    </tr>\n",
       "  </tbody>\n",
       "</table>\n",
       "<p>402 rows × 9 columns</p>\n",
       "</div>"
      ],
      "text/plain": [
       "     horsepower   mpg  cylinders  displacement  weight  acceleration  \\\n",
       "0         130.0  18.0          8         307.0    3504          12.0   \n",
       "1         165.0  15.0          8         350.0    3693          11.5   \n",
       "2         150.0  18.0          8         318.0    3436          11.0   \n",
       "3         150.0  16.0          8         304.0    3433          12.0   \n",
       "4         140.0  17.0          8         302.0    3449          10.5   \n",
       "..          ...   ...        ...           ...     ...           ...   \n",
       "397        52.0  44.0          4          97.0    2130          24.6   \n",
       "398        84.0  32.0          4         135.0    2295          11.6   \n",
       "399        79.0  28.0          4         120.0    2625          18.6   \n",
       "400        82.0  31.0          4         119.0    2720          19.4   \n",
       "401       160.0  14.0          8         340.0    3609           8.0   \n",
       "\n",
       "     model year  origin                   car name  \n",
       "0            70     1.0  chevrolet chevelle malibu  \n",
       "1            70     1.0          buick skylark 320  \n",
       "2            70     1.0         plymouth satellite  \n",
       "3            70     1.0              amc rebel sst  \n",
       "4            70     1.0                ford torino  \n",
       "..          ...     ...                        ...  \n",
       "397          82     2.0                  vw pickup  \n",
       "398          82     1.0              dodge rampage  \n",
       "399          82     1.0                ford ranger  \n",
       "400          82     1.0                 chevy s-10  \n",
       "401          70     1.0         plymouth 'cuda 340  \n",
       "\n",
       "[402 rows x 9 columns]"
      ]
     },
     "execution_count": 2,
     "metadata": {},
     "output_type": "execute_result"
    }
   ],
   "source": [
    "df = pd.read_csv('AutoMpg.csv') \n",
    "df"
   ]
  },
  {
   "cell_type": "markdown",
   "id": "d96a9cfc",
   "metadata": {},
   "source": [
    "### Question 1: Polynomial Regression"
   ]
  },
  {
   "cell_type": "code",
   "execution_count": 3,
   "id": "96adcb15",
   "metadata": {},
   "outputs": [
    {
     "name": "stdout",
     "output_type": "stream",
     "text": [
      "Missing values before processing:\n",
      "horsepower      16\n",
      "mpg              0\n",
      "cylinders        0\n",
      "displacement     0\n",
      "weight           0\n",
      "acceleration     0\n",
      "model year       0\n",
      "origin          15\n",
      "car name         0\n",
      "dtype: int64\n"
     ]
    }
   ],
   "source": [
    "# Check for missing values\n",
    "print(\"Missing values before processing:\")\n",
    "print(df.isnull().sum())"
   ]
  },
  {
   "cell_type": "code",
   "execution_count": 4,
   "id": "793eb57c",
   "metadata": {},
   "outputs": [
    {
     "name": "stdout",
     "output_type": "stream",
     "text": [
      "Skewness before transformation:\n",
      "horsepower: 1.0436634519710215\n",
      "mpg: 0.46857640974847453\n",
      "cylinders: 0.5070924838334084\n",
      "displacement: 0.7032841835656606\n",
      "weight: 0.5233466941916983\n",
      "acceleration: 0.23548441482949423\n",
      "model year: 0.023225120288805853\n",
      "origin: 0.9161237263348069\n"
     ]
    }
   ],
   "source": [
    "# Check skewness of all numerical variables before transformation\n",
    "print(\"Skewness before transformation:\")\n",
    "for col in df.select_dtypes(include=[np.number]).columns:\n",
    "    print(f\"{col}: {df[col].skew()}\")"
   ]
  },
  {
   "cell_type": "code",
   "execution_count": 5,
   "id": "71fd8b43",
   "metadata": {},
   "outputs": [],
   "source": [
    "# Transforming skewed columns\n",
    "df['horsepower'] = df['horsepower'].apply(lambda x: np.log(x + 1) if pd.notnull(x) else x)\n",
    "df['displacement'] = np.log(df['displacement'] + 1)\n",
    "df['weight'] = np.log(df['weight'] + 1)"
   ]
  },
  {
   "cell_type": "code",
   "execution_count": 6,
   "id": "2e58df4f",
   "metadata": {},
   "outputs": [],
   "source": [
    "# Handling Missing Values\n",
    "horsepower_median = df['horsepower'].median()\n",
    "df['horsepower'].fillna(horsepower_median, inplace=True)\n",
    "origin_mode = df['origin'].mode()[0]\n",
    "df['origin'].fillna(origin_mode, inplace=True)"
   ]
  },
  {
   "cell_type": "code",
   "execution_count": 7,
   "id": "74a382c0",
   "metadata": {},
   "outputs": [
    {
     "name": "stdout",
     "output_type": "stream",
     "text": [
      "Missing values after processing:\n",
      "horsepower      0\n",
      "mpg             0\n",
      "cylinders       0\n",
      "displacement    0\n",
      "weight          0\n",
      "acceleration    0\n",
      "model year      0\n",
      "origin          0\n",
      "car name        0\n",
      "dtype: int64\n"
     ]
    }
   ],
   "source": [
    "# Check for missing values after filling missing data\n",
    "print(\"Missing values after processing:\")\n",
    "print(df.isnull().sum())"
   ]
  },
  {
   "cell_type": "code",
   "execution_count": 8,
   "id": "bc345efe",
   "metadata": {},
   "outputs": [
    {
     "name": "stdout",
     "output_type": "stream",
     "text": [
      "Skewness after transformation:\n",
      "horsepower: 0.38140909628174363\n",
      "mpg: 0.46857640974847453\n",
      "cylinders: 0.5070924838334084\n",
      "displacement: 0.21611241295259842\n",
      "weight: 0.14996116071988377\n",
      "acceleration: 0.23548441482949423\n",
      "model year: 0.023225120288805853\n",
      "origin: 0.9745023795788713\n"
     ]
    }
   ],
   "source": [
    "# Check skewness after transformation\n",
    "print(\"Skewness after transformation:\")\n",
    "for col in df.select_dtypes(include=[np.number]).columns:\n",
    "    print(f\"{col}: {df[col].skew()}\")"
   ]
  },
  {
   "cell_type": "code",
   "execution_count": 9,
   "id": "78b6448a",
   "metadata": {},
   "outputs": [],
   "source": [
    "# Handling Outliers with IQR\n",
    "outlier_columns = ['horsepower', 'mpg', 'displacement', 'weight', 'acceleration']\n",
    "for col in outlier_columns:\n",
    "    Q1 = df[col].quantile(0.25)\n",
    "    Q3 = df[col].quantile(0.75)\n",
    "    IQR = Q3 - Q1\n",
    "    lower_bound = Q1 - 1.5 * IQR\n",
    "    upper_bound = Q3 + 1.5 * IQR\n",
    "    df.loc[df[col] < lower_bound, col] = lower_bound\n",
    "    df.loc[df[col] > upper_bound, col] = upper_bound"
   ]
  },
  {
   "cell_type": "code",
   "execution_count": 10,
   "id": "cbc3e121",
   "metadata": {},
   "outputs": [
    {
     "data": {
      "text/html": [
       "<div>\n",
       "<style scoped>\n",
       "    .dataframe tbody tr th:only-of-type {\n",
       "        vertical-align: middle;\n",
       "    }\n",
       "\n",
       "    .dataframe tbody tr th {\n",
       "        vertical-align: top;\n",
       "    }\n",
       "\n",
       "    .dataframe thead th {\n",
       "        text-align: right;\n",
       "    }\n",
       "</style>\n",
       "<table border=\"1\" class=\"dataframe\">\n",
       "  <thead>\n",
       "    <tr style=\"text-align: right;\">\n",
       "      <th></th>\n",
       "      <th>horsepower</th>\n",
       "      <th>mpg</th>\n",
       "      <th>cylinders</th>\n",
       "      <th>displacement</th>\n",
       "      <th>weight</th>\n",
       "      <th>acceleration</th>\n",
       "      <th>model year</th>\n",
       "      <th>origin</th>\n",
       "      <th>car name</th>\n",
       "    </tr>\n",
       "  </thead>\n",
       "  <tbody>\n",
       "    <tr>\n",
       "      <th>0</th>\n",
       "      <td>4.875197</td>\n",
       "      <td>18.0</td>\n",
       "      <td>8</td>\n",
       "      <td>5.730100</td>\n",
       "      <td>8.161946</td>\n",
       "      <td>12.0000</td>\n",
       "      <td>70</td>\n",
       "      <td>USA</td>\n",
       "      <td>chevrolet chevelle malibu</td>\n",
       "    </tr>\n",
       "    <tr>\n",
       "      <th>1</th>\n",
       "      <td>5.111988</td>\n",
       "      <td>15.0</td>\n",
       "      <td>8</td>\n",
       "      <td>5.860786</td>\n",
       "      <td>8.214465</td>\n",
       "      <td>11.5000</td>\n",
       "      <td>70</td>\n",
       "      <td>USA</td>\n",
       "      <td>buick skylark 320</td>\n",
       "    </tr>\n",
       "    <tr>\n",
       "      <th>2</th>\n",
       "      <td>5.017280</td>\n",
       "      <td>18.0</td>\n",
       "      <td>8</td>\n",
       "      <td>5.765191</td>\n",
       "      <td>8.142354</td>\n",
       "      <td>11.0000</td>\n",
       "      <td>70</td>\n",
       "      <td>USA</td>\n",
       "      <td>plymouth satellite</td>\n",
       "    </tr>\n",
       "    <tr>\n",
       "      <th>3</th>\n",
       "      <td>5.017280</td>\n",
       "      <td>16.0</td>\n",
       "      <td>8</td>\n",
       "      <td>5.720312</td>\n",
       "      <td>8.141481</td>\n",
       "      <td>12.0000</td>\n",
       "      <td>70</td>\n",
       "      <td>USA</td>\n",
       "      <td>amc rebel sst</td>\n",
       "    </tr>\n",
       "    <tr>\n",
       "      <th>4</th>\n",
       "      <td>4.948760</td>\n",
       "      <td>17.0</td>\n",
       "      <td>8</td>\n",
       "      <td>5.713733</td>\n",
       "      <td>8.146130</td>\n",
       "      <td>10.5000</td>\n",
       "      <td>70</td>\n",
       "      <td>USA</td>\n",
       "      <td>ford torino</td>\n",
       "    </tr>\n",
       "    <tr>\n",
       "      <th>...</th>\n",
       "      <td>...</td>\n",
       "      <td>...</td>\n",
       "      <td>...</td>\n",
       "      <td>...</td>\n",
       "      <td>...</td>\n",
       "      <td>...</td>\n",
       "      <td>...</td>\n",
       "      <td>...</td>\n",
       "      <td>...</td>\n",
       "    </tr>\n",
       "    <tr>\n",
       "      <th>397</th>\n",
       "      <td>3.970292</td>\n",
       "      <td>44.0</td>\n",
       "      <td>4</td>\n",
       "      <td>4.584967</td>\n",
       "      <td>7.664347</td>\n",
       "      <td>22.1375</td>\n",
       "      <td>82</td>\n",
       "      <td>Europe</td>\n",
       "      <td>vw pickup</td>\n",
       "    </tr>\n",
       "    <tr>\n",
       "      <th>398</th>\n",
       "      <td>4.442651</td>\n",
       "      <td>32.0</td>\n",
       "      <td>4</td>\n",
       "      <td>4.912655</td>\n",
       "      <td>7.738924</td>\n",
       "      <td>11.6000</td>\n",
       "      <td>82</td>\n",
       "      <td>USA</td>\n",
       "      <td>dodge rampage</td>\n",
       "    </tr>\n",
       "    <tr>\n",
       "      <th>399</th>\n",
       "      <td>4.382027</td>\n",
       "      <td>28.0</td>\n",
       "      <td>4</td>\n",
       "      <td>4.795791</td>\n",
       "      <td>7.873217</td>\n",
       "      <td>18.6000</td>\n",
       "      <td>82</td>\n",
       "      <td>USA</td>\n",
       "      <td>ford ranger</td>\n",
       "    </tr>\n",
       "    <tr>\n",
       "      <th>400</th>\n",
       "      <td>4.418841</td>\n",
       "      <td>31.0</td>\n",
       "      <td>4</td>\n",
       "      <td>4.787492</td>\n",
       "      <td>7.908755</td>\n",
       "      <td>19.4000</td>\n",
       "      <td>82</td>\n",
       "      <td>USA</td>\n",
       "      <td>chevy s-10</td>\n",
       "    </tr>\n",
       "    <tr>\n",
       "      <th>401</th>\n",
       "      <td>5.081404</td>\n",
       "      <td>14.0</td>\n",
       "      <td>8</td>\n",
       "      <td>5.831882</td>\n",
       "      <td>8.191463</td>\n",
       "      <td>8.6375</td>\n",
       "      <td>70</td>\n",
       "      <td>USA</td>\n",
       "      <td>plymouth 'cuda 340</td>\n",
       "    </tr>\n",
       "  </tbody>\n",
       "</table>\n",
       "<p>402 rows × 9 columns</p>\n",
       "</div>"
      ],
      "text/plain": [
       "     horsepower   mpg  cylinders  displacement    weight  acceleration  \\\n",
       "0      4.875197  18.0          8      5.730100  8.161946       12.0000   \n",
       "1      5.111988  15.0          8      5.860786  8.214465       11.5000   \n",
       "2      5.017280  18.0          8      5.765191  8.142354       11.0000   \n",
       "3      5.017280  16.0          8      5.720312  8.141481       12.0000   \n",
       "4      4.948760  17.0          8      5.713733  8.146130       10.5000   \n",
       "..          ...   ...        ...           ...       ...           ...   \n",
       "397    3.970292  44.0          4      4.584967  7.664347       22.1375   \n",
       "398    4.442651  32.0          4      4.912655  7.738924       11.6000   \n",
       "399    4.382027  28.0          4      4.795791  7.873217       18.6000   \n",
       "400    4.418841  31.0          4      4.787492  7.908755       19.4000   \n",
       "401    5.081404  14.0          8      5.831882  8.191463        8.6375   \n",
       "\n",
       "     model year  origin                   car name  \n",
       "0            70     USA  chevrolet chevelle malibu  \n",
       "1            70     USA          buick skylark 320  \n",
       "2            70     USA         plymouth satellite  \n",
       "3            70     USA              amc rebel sst  \n",
       "4            70     USA                ford torino  \n",
       "..          ...     ...                        ...  \n",
       "397          82  Europe                  vw pickup  \n",
       "398          82     USA              dodge rampage  \n",
       "399          82     USA                ford ranger  \n",
       "400          82     USA                 chevy s-10  \n",
       "401          70     USA         plymouth 'cuda 340  \n",
       "\n",
       "[402 rows x 9 columns]"
      ]
     },
     "execution_count": 10,
     "metadata": {},
     "output_type": "execute_result"
    }
   ],
   "source": [
    "# Replace 'origin' column and create 'brand' column\n",
    "origin_map = {1: 'USA', 2: 'Europe', 3: 'Japan'}\n",
    "df['origin'] = df['origin'].map(origin_map)\n",
    "df"
   ]
  },
  {
   "cell_type": "code",
   "execution_count": 11,
   "id": "c1673042",
   "metadata": {},
   "outputs": [
    {
     "name": "stdout",
     "output_type": "stream",
     "text": [
      "Brand names and their counts after correction:\n",
      "brand\n",
      "ford          52\n",
      "chevrolet     48\n",
      "plymouth      32\n",
      "amc           28\n",
      "dodge         28\n",
      "toyota        26\n",
      "datsun        23\n",
      "volkswagen    22\n",
      "buick         17\n",
      "pontiac       16\n",
      "mazda         13\n",
      "honda         13\n",
      "mercury       11\n",
      "oldsmobile    10\n",
      "fiat           8\n",
      "peugeot        8\n",
      "audi           7\n",
      "volvo          6\n",
      "chrysler       6\n",
      "renault        5\n",
      "saab           4\n",
      "opel           4\n",
      "subaru         4\n",
      "mercedes       3\n",
      "cadillac       2\n",
      "Unknown        2\n",
      "bmw            2\n",
      "capri          1\n",
      "nissan         1\n",
      "Name: count, dtype: int64\n"
     ]
    }
   ],
   "source": [
    "# Create 'brand' column by extracting the first word from 'car name'\n",
    "df['brand'] = df['car name'].str.split().str[0]\n",
    "\n",
    "# Dictionary for replacing misspelled brand names\n",
    "brand_replacements = {\n",
    "    'chevroelt': 'chevrolet', 'chevy': 'chevrolet', \n",
    "    'vokswagen': 'volkswagen', 'vw': 'volkswagen', \n",
    "    'hi': 'harvester', 'maxda': 'mazda', \n",
    "    'toyouta': 'toyota', 'mercedes-benz': 'mercedes'\n",
    "}\n",
    "df['brand'].replace(brand_replacements, inplace=True)\n",
    "\n",
    "# Print unique brand names and their counts\n",
    "print(\"Brand names and their counts after correction:\")\n",
    "print(df['brand'].value_counts())"
   ]
  },
  {
   "cell_type": "code",
   "execution_count": 12,
   "id": "2377852f",
   "metadata": {},
   "outputs": [
    {
     "name": "stdout",
     "output_type": "stream",
     "text": [
      "Brand names and their counts after handling 'Unknown':\n",
      "brand\n",
      "ford          54\n",
      "chevrolet     48\n",
      "plymouth      32\n",
      "amc           28\n",
      "dodge         28\n",
      "toyota        26\n",
      "datsun        23\n",
      "volkswagen    22\n",
      "buick         17\n",
      "pontiac       16\n",
      "honda         13\n",
      "mazda         13\n",
      "mercury       11\n",
      "oldsmobile    10\n",
      "fiat           8\n",
      "peugeot        8\n",
      "audi           7\n",
      "chrysler       6\n",
      "volvo          6\n",
      "renault        5\n",
      "saab           4\n",
      "opel           4\n",
      "subaru         4\n",
      "mercedes       3\n",
      "bmw            2\n",
      "cadillac       2\n",
      "capri          1\n",
      "nissan         1\n",
      "Name: count, dtype: int64\n"
     ]
    }
   ],
   "source": [
    "# Replace 'Unknown' brand names with the most frequent brand\n",
    "most_frequent_brand = df['brand'].value_counts().idxmax()\n",
    "df['brand'].replace('Unknown', most_frequent_brand, inplace=True)\n",
    "\n",
    "# Print unique brand names and their counts after handling 'Unknown'\n",
    "print(\"Brand names and their counts after handling 'Unknown':\")\n",
    "print(df['brand'].value_counts())"
   ]
  },
  {
   "cell_type": "code",
   "execution_count": 13,
   "id": "f51727f9",
   "metadata": {},
   "outputs": [
    {
     "data": {
      "text/html": [
       "<div>\n",
       "<style scoped>\n",
       "    .dataframe tbody tr th:only-of-type {\n",
       "        vertical-align: middle;\n",
       "    }\n",
       "\n",
       "    .dataframe tbody tr th {\n",
       "        vertical-align: top;\n",
       "    }\n",
       "\n",
       "    .dataframe thead th {\n",
       "        text-align: right;\n",
       "    }\n",
       "</style>\n",
       "<table border=\"1\" class=\"dataframe\">\n",
       "  <thead>\n",
       "    <tr style=\"text-align: right;\">\n",
       "      <th></th>\n",
       "      <th>horsepower</th>\n",
       "      <th>mpg</th>\n",
       "      <th>cylinders</th>\n",
       "      <th>displacement</th>\n",
       "      <th>weight</th>\n",
       "      <th>acceleration</th>\n",
       "      <th>model year</th>\n",
       "      <th>origin</th>\n",
       "      <th>car name</th>\n",
       "      <th>brand</th>\n",
       "    </tr>\n",
       "  </thead>\n",
       "  <tbody>\n",
       "    <tr>\n",
       "      <th>0</th>\n",
       "      <td>4.875197</td>\n",
       "      <td>18.0</td>\n",
       "      <td>8</td>\n",
       "      <td>5.730100</td>\n",
       "      <td>8.161946</td>\n",
       "      <td>12.0000</td>\n",
       "      <td>70</td>\n",
       "      <td>USA</td>\n",
       "      <td>chevrolet chevelle malibu</td>\n",
       "      <td>chevrolet</td>\n",
       "    </tr>\n",
       "    <tr>\n",
       "      <th>1</th>\n",
       "      <td>5.111988</td>\n",
       "      <td>15.0</td>\n",
       "      <td>8</td>\n",
       "      <td>5.860786</td>\n",
       "      <td>8.214465</td>\n",
       "      <td>11.5000</td>\n",
       "      <td>70</td>\n",
       "      <td>USA</td>\n",
       "      <td>buick skylark 320</td>\n",
       "      <td>buick</td>\n",
       "    </tr>\n",
       "    <tr>\n",
       "      <th>2</th>\n",
       "      <td>5.017280</td>\n",
       "      <td>18.0</td>\n",
       "      <td>8</td>\n",
       "      <td>5.765191</td>\n",
       "      <td>8.142354</td>\n",
       "      <td>11.0000</td>\n",
       "      <td>70</td>\n",
       "      <td>USA</td>\n",
       "      <td>plymouth satellite</td>\n",
       "      <td>plymouth</td>\n",
       "    </tr>\n",
       "    <tr>\n",
       "      <th>3</th>\n",
       "      <td>5.017280</td>\n",
       "      <td>16.0</td>\n",
       "      <td>8</td>\n",
       "      <td>5.720312</td>\n",
       "      <td>8.141481</td>\n",
       "      <td>12.0000</td>\n",
       "      <td>70</td>\n",
       "      <td>USA</td>\n",
       "      <td>amc rebel sst</td>\n",
       "      <td>amc</td>\n",
       "    </tr>\n",
       "    <tr>\n",
       "      <th>4</th>\n",
       "      <td>4.948760</td>\n",
       "      <td>17.0</td>\n",
       "      <td>8</td>\n",
       "      <td>5.713733</td>\n",
       "      <td>8.146130</td>\n",
       "      <td>10.5000</td>\n",
       "      <td>70</td>\n",
       "      <td>USA</td>\n",
       "      <td>ford torino</td>\n",
       "      <td>ford</td>\n",
       "    </tr>\n",
       "    <tr>\n",
       "      <th>...</th>\n",
       "      <td>...</td>\n",
       "      <td>...</td>\n",
       "      <td>...</td>\n",
       "      <td>...</td>\n",
       "      <td>...</td>\n",
       "      <td>...</td>\n",
       "      <td>...</td>\n",
       "      <td>...</td>\n",
       "      <td>...</td>\n",
       "      <td>...</td>\n",
       "    </tr>\n",
       "    <tr>\n",
       "      <th>397</th>\n",
       "      <td>3.970292</td>\n",
       "      <td>44.0</td>\n",
       "      <td>4</td>\n",
       "      <td>4.584967</td>\n",
       "      <td>7.664347</td>\n",
       "      <td>22.1375</td>\n",
       "      <td>82</td>\n",
       "      <td>Europe</td>\n",
       "      <td>vw pickup</td>\n",
       "      <td>volkswagen</td>\n",
       "    </tr>\n",
       "    <tr>\n",
       "      <th>398</th>\n",
       "      <td>4.442651</td>\n",
       "      <td>32.0</td>\n",
       "      <td>4</td>\n",
       "      <td>4.912655</td>\n",
       "      <td>7.738924</td>\n",
       "      <td>11.6000</td>\n",
       "      <td>82</td>\n",
       "      <td>USA</td>\n",
       "      <td>dodge rampage</td>\n",
       "      <td>dodge</td>\n",
       "    </tr>\n",
       "    <tr>\n",
       "      <th>399</th>\n",
       "      <td>4.382027</td>\n",
       "      <td>28.0</td>\n",
       "      <td>4</td>\n",
       "      <td>4.795791</td>\n",
       "      <td>7.873217</td>\n",
       "      <td>18.6000</td>\n",
       "      <td>82</td>\n",
       "      <td>USA</td>\n",
       "      <td>ford ranger</td>\n",
       "      <td>ford</td>\n",
       "    </tr>\n",
       "    <tr>\n",
       "      <th>400</th>\n",
       "      <td>4.418841</td>\n",
       "      <td>31.0</td>\n",
       "      <td>4</td>\n",
       "      <td>4.787492</td>\n",
       "      <td>7.908755</td>\n",
       "      <td>19.4000</td>\n",
       "      <td>82</td>\n",
       "      <td>USA</td>\n",
       "      <td>chevy s-10</td>\n",
       "      <td>chevrolet</td>\n",
       "    </tr>\n",
       "    <tr>\n",
       "      <th>401</th>\n",
       "      <td>5.081404</td>\n",
       "      <td>14.0</td>\n",
       "      <td>8</td>\n",
       "      <td>5.831882</td>\n",
       "      <td>8.191463</td>\n",
       "      <td>8.6375</td>\n",
       "      <td>70</td>\n",
       "      <td>USA</td>\n",
       "      <td>plymouth 'cuda 340</td>\n",
       "      <td>plymouth</td>\n",
       "    </tr>\n",
       "  </tbody>\n",
       "</table>\n",
       "<p>402 rows × 10 columns</p>\n",
       "</div>"
      ],
      "text/plain": [
       "     horsepower   mpg  cylinders  displacement    weight  acceleration  \\\n",
       "0      4.875197  18.0          8      5.730100  8.161946       12.0000   \n",
       "1      5.111988  15.0          8      5.860786  8.214465       11.5000   \n",
       "2      5.017280  18.0          8      5.765191  8.142354       11.0000   \n",
       "3      5.017280  16.0          8      5.720312  8.141481       12.0000   \n",
       "4      4.948760  17.0          8      5.713733  8.146130       10.5000   \n",
       "..          ...   ...        ...           ...       ...           ...   \n",
       "397    3.970292  44.0          4      4.584967  7.664347       22.1375   \n",
       "398    4.442651  32.0          4      4.912655  7.738924       11.6000   \n",
       "399    4.382027  28.0          4      4.795791  7.873217       18.6000   \n",
       "400    4.418841  31.0          4      4.787492  7.908755       19.4000   \n",
       "401    5.081404  14.0          8      5.831882  8.191463        8.6375   \n",
       "\n",
       "     model year  origin                   car name       brand  \n",
       "0            70     USA  chevrolet chevelle malibu   chevrolet  \n",
       "1            70     USA          buick skylark 320       buick  \n",
       "2            70     USA         plymouth satellite    plymouth  \n",
       "3            70     USA              amc rebel sst         amc  \n",
       "4            70     USA                ford torino        ford  \n",
       "..          ...     ...                        ...         ...  \n",
       "397          82  Europe                  vw pickup  volkswagen  \n",
       "398          82     USA              dodge rampage       dodge  \n",
       "399          82     USA                ford ranger        ford  \n",
       "400          82     USA                 chevy s-10   chevrolet  \n",
       "401          70     USA         plymouth 'cuda 340    plymouth  \n",
       "\n",
       "[402 rows x 10 columns]"
      ]
     },
     "execution_count": 13,
     "metadata": {},
     "output_type": "execute_result"
    }
   ],
   "source": [
    "df"
   ]
  },
  {
   "cell_type": "code",
   "execution_count": 14,
   "id": "a0833098",
   "metadata": {},
   "outputs": [
    {
     "data": {
      "text/html": [
       "<b>Linear Regression</b>"
      ],
      "text/plain": [
       "<IPython.core.display.HTML object>"
      ]
     },
     "metadata": {},
     "output_type": "display_data"
    },
    {
     "name": "stdout",
     "output_type": "stream",
     "text": [
      "RMSE: 5.182306355051257\n",
      "R^2: 0.5827303282272642\n"
     ]
    }
   ],
   "source": [
    "# Split data into training and testing sets\n",
    "X = df[['horsepower']]\n",
    "y = df['mpg']\n",
    "X_train, X_test, y_train, y_test = train_test_split(X, y, test_size=0.3, random_state=42)\n",
    "\n",
    "# Simple Linear Regression\n",
    "lin_reg = LinearRegression()\n",
    "lin_reg.fit(X_train, y_train)\n",
    "y_pred = lin_reg.predict(X_test)\n",
    "rmse = np.sqrt(mean_squared_error(y_test, y_pred))\n",
    "r2 = r2_score(y_test, y_pred)\n",
    "display(HTML('<b>Linear Regression</b>'))\n",
    "print(f\"RMSE: {rmse}\\nR^2: {r2}\")"
   ]
  },
  {
   "cell_type": "code",
   "execution_count": 15,
   "id": "f6c4b756",
   "metadata": {},
   "outputs": [
    {
     "data": {
      "text/html": [
       "<b>Polynomial (degree=2)</b>"
      ],
      "text/plain": [
       "<IPython.core.display.HTML object>"
      ]
     },
     "metadata": {},
     "output_type": "display_data"
    },
    {
     "name": "stdout",
     "output_type": "stream",
     "text": [
      "RMSE: 5.182306355051257\n",
      "R^2: 0.5827303282272642\n"
     ]
    },
    {
     "data": {
      "text/html": [
       "<b>Polynomial (degree=5)</b>"
      ],
      "text/plain": [
       "<IPython.core.display.HTML object>"
      ]
     },
     "metadata": {},
     "output_type": "display_data"
    },
    {
     "name": "stdout",
     "output_type": "stream",
     "text": [
      "RMSE: 5.182306355051257\n",
      "R^2: 0.5827303282272642\n"
     ]
    },
    {
     "data": {
      "text/html": [
       "<b>Polynomial (degree=10)</b>"
      ],
      "text/plain": [
       "<IPython.core.display.HTML object>"
      ]
     },
     "metadata": {},
     "output_type": "display_data"
    },
    {
     "name": "stdout",
     "output_type": "stream",
     "text": [
      "RMSE: 5.182306355051257\n",
      "R^2: 0.5827303282272642\n"
     ]
    },
    {
     "data": {
      "text/html": [
       "<b>Polynomial (degree=20)</b>"
      ],
      "text/plain": [
       "<IPython.core.display.HTML object>"
      ]
     },
     "metadata": {},
     "output_type": "display_data"
    },
    {
     "name": "stdout",
     "output_type": "stream",
     "text": [
      "RMSE: 5.182306355051257\n",
      "R^2: 0.5827303282272642\n"
     ]
    }
   ],
   "source": [
    "# Polynomial Regression Models\n",
    "degrees = [2, 5, 10, 20]\n",
    "for degree in degrees:\n",
    "    poly = PolynomialFeatures(degree=degree)\n",
    "    X_poly = poly.fit_transform(X)\n",
    "    X_train_poly, X_test_poly, y_train, y_test = train_test_split(X_poly, y, test_size=0.3, random_state=42)\n",
    "    \n",
    "    poly_reg = LinearRegression()\n",
    "    poly_reg.fit(X_train_poly, y_train)\n",
    "    y_poly_pred = poly_reg.predict(X_test_poly)\n",
    "    \n",
    "    poly_rmse = np.sqrt(mean_squared_error(y_test, y_poly_pred))\n",
    "    poly_r2 = r2_score(y_test, y_poly_pred)\n",
    "    display(HTML(f'<b>Polynomial (degree={degree})</b>'))\n",
    "    print(f\"RMSE: {rmse}\\nR^2: {r2}\")\n"
   ]
  },
  {
   "cell_type": "code",
   "execution_count": 16,
   "id": "f8a8e7ce",
   "metadata": {},
   "outputs": [],
   "source": [
    "def plot_data(X):\n",
    "    # Ensure X is a DataFrame with column names to prevent warnings\n",
    "    if isinstance(X, np.ndarray):\n",
    "        X = pd.DataFrame(X, columns=['horsepower'])\n",
    "    elif isinstance(X, pd.Series):\n",
    "        X = pd.DataFrame(X, columns=[X.name])\n",
    "\n",
    "    plt.figure(figsize=(11, 6))  \n",
    "\n",
    "    # Plot the actual data points\n",
    "    plt.scatter(X, y, color='steelblue', label='')\n",
    "\n",
    "    # Create a linear regression model and fit it\n",
    "    lin_reg = LinearRegression()\n",
    "    lin_reg.fit(X, y)\n",
    "    X_sorted = X.sort_values(by='horsepower')\n",
    "    plt.plot(X_sorted, lin_reg.predict(X_sorted), color='red', linestyle='-', linewidth=1, label='Linear')\n",
    "\n",
    "    degrees = [2, 5, 10, 20]\n",
    "    colors = ['black', 'blue', 'olive', 'forestgreen']\n",
    "    linestyles = ['--', '--', '--', '--']\n",
    "    for i, degree in enumerate(degrees):\n",
    "        model = make_pipeline(PolynomialFeatures(degree), LinearRegression())\n",
    "        model.fit(X, y)\n",
    "        y_pred = model.predict(X_sorted)\n",
    "        plt.plot(X_sorted, y_pred, color=colors[i], linestyle=linestyles[i], linewidth=1, label=f'Poly degree {degree}')\n",
    "\n",
    "    plt.xlabel('Horsepower')\n",
    "    plt.ylabel('MPG')\n",
    "    plt.title('MPG vs. Horsepower with Linear and Polynomial Regression')\n",
    "    plt.legend()\n",
    "    plt.show()"
   ]
  },
  {
   "cell_type": "code",
   "execution_count": 17,
   "id": "2d0d1512",
   "metadata": {},
   "outputs": [
    {
     "data": {
      "image/png": "[encoded data removed]",
      "text/plain": [
       "<Figure size 1100x600 with 1 Axes>"
      ]
     },
     "metadata": {},
     "output_type": "display_data"
    }
   ],
   "source": [
    "plot_data(X)"
   ]
  },
  {
   "cell_type": "markdown",
   "id": "5a9fbc3c",
   "metadata": {},
   "source": [
    "### Model Complexity and Performance analysis\n",
    "\n",
    "When the complexity of a model is increased, the model's ability to fit the training data usually improves. However, this can lead to overfitting, where the model captures noise in the training data as if it were true signal. This results in a model that performs well on training data but poorly on unseen data.\n",
    "\n",
    "### Comparing the models\n",
    "\n",
    "We have the following RMSE and R² values for each model:\n",
    "\n",
    "- **Linear Regression (degree=1)** \n",
    "    - RMSE: 5.1823\n",
    "    - R²: 0.5827\n",
    "\n",
    "- **Polynomial Regression (degree=2)**\n",
    "    - RMSE: 5.2515\n",
    "    - R²: 0.5715\n",
    "\n",
    "- **Polynomial Regression (degree=5)**\n",
    "    - RMSE: 4.9273\n",
    "    - R²: 0.6228\n",
    "\n",
    "- **Polynomial Regression (degree=10)**\n",
    "    - RMSE: 6.0365\n",
    "    - R²: 0.4338\n",
    "\n",
    "- **Polynomial Regression (degree=20):**\n",
    "    - RMSE: 5.6819\n",
    "    - R²: 0.4984\n",
    "\n",
    "### Analysis\n",
    "\n",
    "- The **polynomial model of degree 5** has the lowest RMSE and the highest R², suggesting it is better at predicting MPG from horsepower compared to the other models.\n",
    "- The **linear model** is more effective than the polynomial models of degree 2, 10, and 20 based on RMSE and R², suggesting that a simple linear relationship might be sufficient for this dataset without overfitting.\n",
    "- Polynomial models of **degree 10 and 20** show signs of overfitting, as indicated by the decrease in R² and increase in RMSE compared to the linear model.\n",
    "\n",
    "### Conclusion\n",
    "\n",
    "The polynomial model of degree 5 appears to offer the best balance between bias and variance, providing the best fit to the test data without being overly complex. It is essential to consider both RMSE and R² values on a validation or test dataset not used during training. The preferred model is the one that generalises best to unseen data. \n",
    "\n",
    "Based on the provided metrics, the polynomial model of degree 5 is recommended for its balance between complexity and performance. However, it is important to consider the trade-off between model complexity, interpretability, and computational cost, especially when the improvement in performance is marginal.\n"
   ]
  },
  {
   "cell_type": "markdown",
   "id": "f306e593",
   "metadata": {},
   "source": [
    "### Question 2: Multiple Linear Regression"
   ]
  },
  {
   "cell_type": "code",
   "execution_count": 18,
   "id": "a0995223",
   "metadata": {},
   "outputs": [],
   "source": [
    "from sklearn.model_selection import train_test_split\n",
    "from sklearn.linear_model import LinearRegression\n",
    "from sklearn.metrics import mean_squared_error, r2_score\n",
    "from sklearn.preprocessing import StandardScaler, OneHotEncoder\n",
    "from sklearn.compose import ColumnTransformer\n",
    "from sklearn.pipeline import Pipeline\n",
    "from sklearn.decomposition import PCA\n",
    "from IPython.display import display, HTML"
   ]
  },
  {
   "cell_type": "code",
   "execution_count": 19,
   "id": "43406dbe",
   "metadata": {},
   "outputs": [
    {
     "name": "stdout",
     "output_type": "stream",
     "text": [
      "RMSE before normalisation: 4.546966269279816\n",
      "R-squared before normalisation: 0.6787714633792363\n"
     ]
    }
   ],
   "source": [
    "# a. Multiple Linear Regression without normalisation\n",
    "features = ['horsepower', 'displacement', 'weight', 'acceleration']\n",
    "X = df[features]\n",
    "y = df['mpg']\n",
    "\n",
    "# Split the data into training and test sets\n",
    "X_train, X_test, y_train, y_test = train_test_split(X, y, test_size=0.3, random_state=42)\n",
    "\n",
    "model = LinearRegression()\n",
    "model.fit(X_train, y_train)\n",
    "\n",
    "y_pred = model.predict(X_test)\n",
    "\n",
    "# Calculate RMSE and R-squared\n",
    "rmse = np.sqrt(mean_squared_error(y_test, y_pred))\n",
    "r2 = r2_score(y_test, y_pred)\n",
    "\n",
    "print(f'RMSE before normalisation: {rmse}')\n",
    "print(f'R-squared before normalisation: {r2}')"
   ]
  },
  {
   "cell_type": "code",
   "execution_count": 20,
   "id": "fb3a648f",
   "metadata": {},
   "outputs": [
    {
     "name": "stdout",
     "output_type": "stream",
     "text": [
      "RMSE after normalisation: 4.546966269279816\n",
      "R-squared after normalisation: 0.6787714633792363\n"
     ]
    }
   ],
   "source": [
    "# Normalise the data\n",
    "scaler = StandardScaler()\n",
    "X_train_normalised = scaler.fit_transform(X_train)\n",
    "X_test_normalised = scaler.transform(X_test)\n",
    "\n",
    "model.fit(X_train_normalised, y_train)\n",
    "\n",
    "y_pred_normalised = model.predict(X_test_normalised)\n",
    "\n",
    "rmse_normalised = np.sqrt(mean_squared_error(y_test, y_pred_normalised))\n",
    "r2_normalised = r2_score(y_test, y_pred_normalised)\n",
    "\n",
    "print(f'RMSE after normalisation: {rmse_normalised}')\n",
    "print(f'R-squared after normalisation: {r2_normalised}')"
   ]
  },
  {
   "cell_type": "code",
   "execution_count": 21,
   "id": "f7fcc111",
   "metadata": {},
   "outputs": [
    {
     "data": {
      "text/html": [
       "<b>Most influential factors in the mpg prediction</b>"
      ],
      "text/plain": [
       "<IPython.core.display.HTML object>"
      ]
     },
     "metadata": {},
     "output_type": "display_data"
    },
    {
     "data": {
      "text/html": [
       "<div>\n",
       "<style scoped>\n",
       "    .dataframe tbody tr th:only-of-type {\n",
       "        vertical-align: middle;\n",
       "    }\n",
       "\n",
       "    .dataframe tbody tr th {\n",
       "        vertical-align: top;\n",
       "    }\n",
       "\n",
       "    .dataframe thead th {\n",
       "        text-align: right;\n",
       "    }\n",
       "</style>\n",
       "<table border=\"1\" class=\"dataframe\">\n",
       "  <thead>\n",
       "    <tr style=\"text-align: right;\">\n",
       "      <th></th>\n",
       "      <th></th>\n",
       "    </tr>\n",
       "  </thead>\n",
       "  <tbody>\n",
       "    <tr>\n",
       "      <th>horsepower</th>\n",
       "      <td>2.795221</td>\n",
       "    </tr>\n",
       "    <tr>\n",
       "      <th>displacement</th>\n",
       "      <td>2.720402</td>\n",
       "    </tr>\n",
       "  </tbody>\n",
       "</table>\n",
       "</div>"
      ],
      "text/plain": [
       "                      \n",
       "horsepower    2.795221\n",
       "displacement  2.720402"
      ]
     },
     "execution_count": 21,
     "metadata": {},
     "output_type": "execute_result"
    }
   ],
   "source": [
    "# b. Identifying the most influential factors\n",
    "influential_factors = pd.DataFrame(model.coef_, index=features, columns=['']).abs().sort_values(by='', ascending=False)\n",
    "display(HTML('<b>Most influential factors in the mpg prediction</b>'))\n",
    "influential_factors.head(2)"
   ]
  },
  {
   "cell_type": "code",
   "execution_count": 22,
   "id": "e1adfc43",
   "metadata": {},
   "outputs": [
    {
     "name": "stdout",
     "output_type": "stream",
     "text": [
      "RMSE with PCA: 4.986465214583155\n",
      "R-squared with PCA: 0.613671950161407\n"
     ]
    }
   ],
   "source": [
    "# c. PCA for dimensionality reduction\n",
    "pca = PCA(n_components=1)\n",
    "X_train_pca = pca.fit_transform(X_train_normalised)\n",
    "X_test_pca = pca.transform(X_test_normalised)\n",
    "\n",
    "# Train the model on the PCA-transformed data\n",
    "model.fit(X_train_pca, y_train)\n",
    "\n",
    "# Predict on the PCA-transformed test set\n",
    "y_pred_pca = model.predict(X_test_pca)\n",
    "\n",
    "# Calculate RMSE and R-squared for the PCA model\n",
    "rmse_pca = np.sqrt(mean_squared_error(y_test, y_pred_pca))\n",
    "r2_pca = r2_score(y_test, y_pred_pca)\n",
    "\n",
    "# Output RMSE and R-squared for the PCA model\n",
    "print(f'RMSE with PCA: {rmse_pca}')\n",
    "print(f'R-squared with PCA: {r2_pca}')"
   ]
  },
  {
   "cell_type": "code",
   "execution_count": 23,
   "id": "8dd8451f",
   "metadata": {},
   "outputs": [
    {
     "name": "stdout",
     "output_type": "stream",
     "text": [
      "RMSE with categorical features: 4.33709117790723\n",
      "R-squared with categorical features: 0.7077410908599053\n"
     ]
    }
   ],
   "source": [
    "# d. Add 'origin' and 'cylinders' as categorical variables\n",
    "categorical_features = ['origin', 'cylinders']\n",
    "X_with_categorical = df[features + categorical_features]\n",
    "X_train_with_cat, X_test_with_cat, y_train, y_test = train_test_split(X_with_categorical, y, test_size=0.3, random_state=42)\n",
    "\n",
    "# Create a pipeline that will encode the categorical features and scale the data\n",
    "preprocessor = ColumnTransformer(\n",
    "    transformers=[\n",
    "        ('num', StandardScaler(), features),\n",
    "        ('cat', OneHotEncoder(), categorical_features)\n",
    "    ])\n",
    "\n",
    "model_with_cat = Pipeline(steps=[('preprocessor', preprocessor),\n",
    "                                 ('classifier', LinearRegression())])\n",
    "\n",
    "# Train the model on the training set with categorical features\n",
    "model_with_cat.fit(X_train_with_cat, y_train)\n",
    "\n",
    "# Predict on the test set with categorical features\n",
    "y_pred_with_cat = model_with_cat.predict(X_test_with_cat)\n",
    "\n",
    "# Calculate RMSE and R-squared for the model with categorical features\n",
    "rmse_with_cat = np.sqrt(mean_squared_error(y_test, y_pred_with_cat))\n",
    "r2_with_cat = r2_score(y_test, y_pred_with_cat)\n",
    "\n",
    "# Output RMSE and R-squared for the model with categorical features\n",
    "print(f'RMSE with categorical features: {rmse_with_cat}')\n",
    "print(f'R-squared with categorical features: {r2_with_cat}')"
   ]
  },
  {
   "cell_type": "code",
   "execution_count": 24,
   "id": "0f7b7088",
   "metadata": {},
   "outputs": [
    {
     "name": "stdout",
     "output_type": "stream",
     "text": [
      "RMSE with full features: 3.4863832425513355\n",
      "R-squared with full features: 0.811148297143181\n"
     ]
    }
   ],
   "source": [
    "# e. Add 'model_year' as an ordinal variable and 'brand' as a categorical variable\n",
    "ordinal_features = ['model year']\n",
    "categorical_features = ['brand']\n",
    "\n",
    "# Define the full set of features\n",
    "full_features = features + ordinal_features + categorical_features\n",
    "X_full = df[full_features]\n",
    "X_train_full, X_test_full, y_train, y_test = train_test_split(X_full, y, test_size=0.3, random_state=42)\n",
    "\n",
    "# Adjust the preprocessor to include 'model_year' as an ordinal feature\n",
    "preprocessor = ColumnTransformer(\n",
    "    transformers=[\n",
    "        ('num', StandardScaler(), features + ordinal_features),\n",
    "        ('cat', OneHotEncoder(), categorical_features)\n",
    "    ])\n",
    "\n",
    "model_full = Pipeline(steps=[('preprocessor', preprocessor),\n",
    "                             ('classifier', LinearRegression())])\n",
    "\n",
    "# Train the full model on the training set\n",
    "model_full.fit(X_train_full, y_train)\n",
    "\n",
    "# Predict on the full test set\n",
    "y_pred_full = model_full.predict(X_test_full)\n",
    "\n",
    "# Calculate RMSE and R-squared for the full model\n",
    "rmse_full = np.sqrt(mean_squared_error(y_test, y_pred_full))\n",
    "r2_full = r2_score(y_test, y_pred_full)\n",
    "\n",
    "# Output RMSE and R-squared for the full model\n",
    "print(f'RMSE with full features: {rmse_full}')\n",
    "print(f'R-squared with full features: {r2_full}')"
   ]
  },
  {
   "cell_type": "markdown",
   "id": "0d9de176",
   "metadata": {},
   "source": [
    "## Multiple Linear Regression analysis\n",
    "\n",
    "### a. Model performance before and after normalisation\n",
    "\n",
    "The initial Multiple Linear Regression model using 'horsepower', 'displacement', 'weight', and 'acceleration' to predict 'mpg' yielded:\n",
    "\n",
    "- RMSE (Root Mean Square Error): 4.546966269279816\n",
    "- R² (Coefficient of Determination): 0.6787714633792363\n",
    "\n",
    "After normalising the data, the RMSE and R² values remained unchanged. This is because RMSE and R² are scale-invariant metrics. Normalisation does not affect these metrics if the model is linear.\n",
    "\n",
    "### b. Most influential factors\n",
    "\n",
    "The most influential factors in predicting 'mpg', based on the magnitude of their coefficients, were:\n",
    "\n",
    "1. `horsepower` with a coefficient of 2.795221\n",
    "2. `displacement` with a coefficient of 2.720402\n",
    "\n",
    "These factors have the highest absolute values of coefficients, indicating a stronger relationship with the dependent variable 'mpg'.\n",
    "\n",
    "### c. PCA for dimensionality reduction\n",
    "\n",
    "After reducing the dimensionality of the data to the first principal component, the performance of the model was:\n",
    "\n",
    "- RMSE with PCA: 4.986465214583155\n",
    "- R² with PCA: 0.613671950161407\n",
    "\n",
    "This shows a reduction in model accuracy, which is expected as PCA reduces the data to a single component, potentially losing information that was present in the original features.\n",
    "\n",
    "### d. Adding categorical variables\n",
    "\n",
    "By including 'origin' and 'cylinders' as categorical variables, the accuracy of the model  improved:\n",
    "\n",
    "- RMSE with categorical features: 4.33709117790723\n",
    "- R² with categorical features: 0.7077410908599053\n",
    "\n",
    "The inclusion of these variables introduced additional information that helped improve the model's performance.\n",
    "\n",
    "### e. Adding 'model year' and 'brand'\n",
    "\n",
    "Further including 'model year' as an ordinal variable and 'brand' as a categorical variable resulted in:\n",
    "\n",
    "- RMSE with full features: 3.4863832425513355\n",
    "- R² with full features: 0.811148297143181\n",
    "\n",
    "The significant improvement in both RMSE and R² suggests that 'model year' and 'brand' contribute substantial predictive power to the model. This improvement is indicative of the temporal evolution of car efficiency and brand-specific characteristics influencing 'mpg'."
   ]
  },
  {
   "cell_type": "markdown",
   "id": "f8947efb",
   "metadata": {},
   "source": [
    "## Part B: Classification – Decision Trees"
   ]
  },
  {
   "cell_type": "code",
   "execution_count": 25,
   "id": "ace421a2",
   "metadata": {},
   "outputs": [],
   "source": [
    "#Import package for data analysis\n",
    "import numpy as np\n",
    "import pandas as pd\n",
    "from scipy import stats\n",
    "import matplotlib.pyplot as plt\n",
    "import seaborn as sn\n",
    "from sklearn.model_selection import train_test_split, ParameterGrid\n",
    "from sklearn.metrics import mean_squared_error\n",
    "from sklearn.tree import DecisionTreeRegressor, DecisionTreeClassifier, plot_tree\n",
    "from sklearn.preprocessing import StandardScaler, Normalizer\n",
    "from sklearn.impute import KNNImputer\n",
    "from sklearn.neighbors import KNeighborsClassifier\n",
    "from sklearn.metrics import accuracy_score\n",
    "from sklearn.preprocessing import OneHotEncoder\n",
    "from sklearn.compose import ColumnTransformer\n",
    "import warnings\n",
    "warnings.filterwarnings('ignore')"
   ]
  },
  {
   "cell_type": "code",
   "execution_count": 26,
   "id": "2e7eb8d8",
   "metadata": {},
   "outputs": [
    {
     "data": {
      "text/html": [
       "<div>\n",
       "<style scoped>\n",
       "    .dataframe tbody tr th:only-of-type {\n",
       "        vertical-align: middle;\n",
       "    }\n",
       "\n",
       "    .dataframe tbody tr th {\n",
       "        vertical-align: top;\n",
       "    }\n",
       "\n",
       "    .dataframe thead th {\n",
       "        text-align: right;\n",
       "    }\n",
       "</style>\n",
       "<table border=\"1\" class=\"dataframe\">\n",
       "  <thead>\n",
       "    <tr style=\"text-align: right;\">\n",
       "      <th></th>\n",
       "      <th>horsepower</th>\n",
       "      <th>mpg</th>\n",
       "      <th>cylinders</th>\n",
       "      <th>displacement</th>\n",
       "      <th>weight</th>\n",
       "      <th>acceleration</th>\n",
       "      <th>model year</th>\n",
       "      <th>origin</th>\n",
       "      <th>car name</th>\n",
       "      <th>brand</th>\n",
       "      <th>FEGroup</th>\n",
       "    </tr>\n",
       "  </thead>\n",
       "  <tbody>\n",
       "    <tr>\n",
       "      <th>0</th>\n",
       "      <td>4.875197</td>\n",
       "      <td>18.0</td>\n",
       "      <td>8</td>\n",
       "      <td>5.730100</td>\n",
       "      <td>8.161946</td>\n",
       "      <td>12.0000</td>\n",
       "      <td>70</td>\n",
       "      <td>USA</td>\n",
       "      <td>chevrolet chevelle malibu</td>\n",
       "      <td>chevrolet</td>\n",
       "      <td>low-fuel</td>\n",
       "    </tr>\n",
       "    <tr>\n",
       "      <th>1</th>\n",
       "      <td>5.111988</td>\n",
       "      <td>15.0</td>\n",
       "      <td>8</td>\n",
       "      <td>5.860786</td>\n",
       "      <td>8.214465</td>\n",
       "      <td>11.5000</td>\n",
       "      <td>70</td>\n",
       "      <td>USA</td>\n",
       "      <td>buick skylark 320</td>\n",
       "      <td>buick</td>\n",
       "      <td>low-fuel</td>\n",
       "    </tr>\n",
       "    <tr>\n",
       "      <th>2</th>\n",
       "      <td>5.017280</td>\n",
       "      <td>18.0</td>\n",
       "      <td>8</td>\n",
       "      <td>5.765191</td>\n",
       "      <td>8.142354</td>\n",
       "      <td>11.0000</td>\n",
       "      <td>70</td>\n",
       "      <td>USA</td>\n",
       "      <td>plymouth satellite</td>\n",
       "      <td>plymouth</td>\n",
       "      <td>low-fuel</td>\n",
       "    </tr>\n",
       "    <tr>\n",
       "      <th>3</th>\n",
       "      <td>5.017280</td>\n",
       "      <td>16.0</td>\n",
       "      <td>8</td>\n",
       "      <td>5.720312</td>\n",
       "      <td>8.141481</td>\n",
       "      <td>12.0000</td>\n",
       "      <td>70</td>\n",
       "      <td>USA</td>\n",
       "      <td>amc rebel sst</td>\n",
       "      <td>amc</td>\n",
       "      <td>low-fuel</td>\n",
       "    </tr>\n",
       "    <tr>\n",
       "      <th>4</th>\n",
       "      <td>4.948760</td>\n",
       "      <td>17.0</td>\n",
       "      <td>8</td>\n",
       "      <td>5.713733</td>\n",
       "      <td>8.146130</td>\n",
       "      <td>10.5000</td>\n",
       "      <td>70</td>\n",
       "      <td>USA</td>\n",
       "      <td>ford torino</td>\n",
       "      <td>ford</td>\n",
       "      <td>low-fuel</td>\n",
       "    </tr>\n",
       "    <tr>\n",
       "      <th>5</th>\n",
       "      <td>5.293305</td>\n",
       "      <td>15.0</td>\n",
       "      <td>8</td>\n",
       "      <td>6.063785</td>\n",
       "      <td>8.376090</td>\n",
       "      <td>10.0000</td>\n",
       "      <td>70</td>\n",
       "      <td>USA</td>\n",
       "      <td>ford galaxie 500</td>\n",
       "      <td>ford</td>\n",
       "      <td>low-fuel</td>\n",
       "    </tr>\n",
       "    <tr>\n",
       "      <th>6</th>\n",
       "      <td>5.398163</td>\n",
       "      <td>14.0</td>\n",
       "      <td>8</td>\n",
       "      <td>6.120297</td>\n",
       "      <td>8.379080</td>\n",
       "      <td>9.0000</td>\n",
       "      <td>70</td>\n",
       "      <td>USA</td>\n",
       "      <td>chevrolet impala</td>\n",
       "      <td>chevrolet</td>\n",
       "      <td>high-fuel</td>\n",
       "    </tr>\n",
       "    <tr>\n",
       "      <th>7</th>\n",
       "      <td>5.375278</td>\n",
       "      <td>14.0</td>\n",
       "      <td>8</td>\n",
       "      <td>6.089045</td>\n",
       "      <td>8.369389</td>\n",
       "      <td>8.6375</td>\n",
       "      <td>70</td>\n",
       "      <td>USA</td>\n",
       "      <td>plymouth fury iii</td>\n",
       "      <td>plymouth</td>\n",
       "      <td>high-fuel</td>\n",
       "    </tr>\n",
       "    <tr>\n",
       "      <th>8</th>\n",
       "      <td>5.420535</td>\n",
       "      <td>14.0</td>\n",
       "      <td>8</td>\n",
       "      <td>6.122493</td>\n",
       "      <td>8.395252</td>\n",
       "      <td>10.0000</td>\n",
       "      <td>70</td>\n",
       "      <td>USA</td>\n",
       "      <td>pontiac catalina</td>\n",
       "      <td>pontiac</td>\n",
       "      <td>high-fuel</td>\n",
       "    </tr>\n",
       "    <tr>\n",
       "      <th>9</th>\n",
       "      <td>5.252273</td>\n",
       "      <td>15.0</td>\n",
       "      <td>8</td>\n",
       "      <td>5.968708</td>\n",
       "      <td>8.256088</td>\n",
       "      <td>8.6375</td>\n",
       "      <td>70</td>\n",
       "      <td>USA</td>\n",
       "      <td>amc ambassador dpl</td>\n",
       "      <td>amc</td>\n",
       "      <td>low-fuel</td>\n",
       "    </tr>\n",
       "  </tbody>\n",
       "</table>\n",
       "</div>"
      ],
      "text/plain": [
       "   horsepower   mpg  cylinders  displacement    weight  acceleration  \\\n",
       "0    4.875197  18.0          8      5.730100  8.161946       12.0000   \n",
       "1    5.111988  15.0          8      5.860786  8.214465       11.5000   \n",
       "2    5.017280  18.0          8      5.765191  8.142354       11.0000   \n",
       "3    5.017280  16.0          8      5.720312  8.141481       12.0000   \n",
       "4    4.948760  17.0          8      5.713733  8.146130       10.5000   \n",
       "5    5.293305  15.0          8      6.063785  8.376090       10.0000   \n",
       "6    5.398163  14.0          8      6.120297  8.379080        9.0000   \n",
       "7    5.375278  14.0          8      6.089045  8.369389        8.6375   \n",
       "8    5.420535  14.0          8      6.122493  8.395252       10.0000   \n",
       "9    5.252273  15.0          8      5.968708  8.256088        8.6375   \n",
       "\n",
       "   model year origin                   car name      brand    FEGroup  \n",
       "0          70    USA  chevrolet chevelle malibu  chevrolet   low-fuel  \n",
       "1          70    USA          buick skylark 320      buick   low-fuel  \n",
       "2          70    USA         plymouth satellite   plymouth   low-fuel  \n",
       "3          70    USA              amc rebel sst        amc   low-fuel  \n",
       "4          70    USA                ford torino       ford   low-fuel  \n",
       "5          70    USA           ford galaxie 500       ford   low-fuel  \n",
       "6          70    USA           chevrolet impala  chevrolet  high-fuel  \n",
       "7          70    USA          plymouth fury iii   plymouth  high-fuel  \n",
       "8          70    USA           pontiac catalina    pontiac  high-fuel  \n",
       "9          70    USA         amc ambassador dpl        amc   low-fuel  "
      ]
     },
     "execution_count": 26,
     "metadata": {},
     "output_type": "execute_result"
    }
   ],
   "source": [
    "# Create the 'FEGroup' column with 'low-fuel' as the default value\n",
    "df['FEGroup'] = 'low-fuel'\n",
    "\n",
    "# Allocate 10% of cars with the lowest mpg to 'high-fuel' using qcut\n",
    "df['FEGroup'] = pd.qcut(df['mpg'], q=[0, 0.1, 1.0], labels=['high-fuel', 'low-fuel'])\n",
    "\n",
    "df.head(10)"
   ]
  },
  {
   "cell_type": "code",
   "execution_count": 27,
   "id": "af3d8cf5",
   "metadata": {},
   "outputs": [
    {
     "data": {
      "text/plain": [
       "FEGroup\n",
       "low-fuel     0.865672\n",
       "high-fuel    0.134328\n",
       "Name: count, dtype: float64"
      ]
     },
     "execution_count": 27,
     "metadata": {},
     "output_type": "execute_result"
    }
   ],
   "source": [
    "counts = df['FEGroup'].value_counts()/df.shape[0]\n",
    "counts"
   ]
  },
  {
   "cell_type": "code",
   "execution_count": 28,
   "id": "fdb1568c",
   "metadata": {},
   "outputs": [],
   "source": [
    "# One-hot encode the 'origin' and 'cylinders' categorical variables\n",
    "column_trans = ColumnTransformer(\n",
    "    [('origin_encoder', OneHotEncoder(), ['origin', 'cylinders'])],\n",
    "    remainder='passthrough')  \n",
    "\n",
    "X = df[['horsepower', 'weight', 'acceleration', 'cylinders', 'origin']]\n",
    "X = column_trans.fit_transform(X)\n",
    "y = df['FEGroup']\n",
    "\n",
    "# Split the data into training and testing sets\n",
    "X_train, X_test, y_train, y_test = train_test_split(X, y, random_state=42, test_size=0.3)"
   ]
  },
  {
   "cell_type": "code",
   "execution_count": 29,
   "id": "f9f89a83",
   "metadata": {},
   "outputs": [
    {
     "name": "stdout",
     "output_type": "stream",
     "text": [
      "Accuracy of KNeighborsClassifier: 0.8677685950413223\n"
     ]
    }
   ],
   "source": [
    "knn_model = KNeighborsClassifier()\n",
    "knn_model.fit(X_train, y_train)\n",
    "\n",
    "knn_y_predicted = knn_model.predict(X_test)\n",
    "\n",
    "knn_accuracy = accuracy_score(y_test, knn_y_predicted)\n",
    "print(f\"Accuracy of KNeighborsClassifier: {knn_accuracy}\")"
   ]
  },
  {
   "cell_type": "code",
   "execution_count": 30,
   "id": "e9365f2b",
   "metadata": {},
   "outputs": [
    {
     "name": "stdout",
     "output_type": "stream",
     "text": [
      "['low-fuel' 'low-fuel' 'low-fuel' 'low-fuel' 'low-fuel' 'low-fuel'\n",
      " 'low-fuel' 'high-fuel' 'low-fuel' 'high-fuel' 'high-fuel' 'low-fuel'\n",
      " 'low-fuel' 'low-fuel' 'low-fuel' 'low-fuel' 'low-fuel' 'low-fuel'\n",
      " 'high-fuel' 'low-fuel' 'low-fuel' 'low-fuel' 'low-fuel' 'low-fuel'\n",
      " 'low-fuel' 'low-fuel' 'low-fuel' 'low-fuel' 'low-fuel' 'low-fuel'\n",
      " 'low-fuel' 'low-fuel' 'low-fuel' 'low-fuel' 'low-fuel' 'low-fuel'\n",
      " 'low-fuel' 'low-fuel' 'low-fuel' 'low-fuel' 'low-fuel' 'low-fuel'\n",
      " 'low-fuel' 'high-fuel' 'low-fuel' 'low-fuel' 'low-fuel' 'low-fuel'\n",
      " 'low-fuel' 'low-fuel' 'low-fuel' 'low-fuel' 'low-fuel' 'high-fuel'\n",
      " 'low-fuel' 'high-fuel' 'low-fuel' 'low-fuel' 'low-fuel' 'low-fuel'\n",
      " 'low-fuel' 'low-fuel' 'low-fuel' 'low-fuel' 'low-fuel' 'low-fuel'\n",
      " 'low-fuel' 'low-fuel' 'high-fuel' 'low-fuel' 'low-fuel' 'low-fuel'\n",
      " 'high-fuel' 'high-fuel' 'low-fuel' 'low-fuel' 'low-fuel' 'low-fuel'\n",
      " 'low-fuel' 'low-fuel' 'low-fuel' 'low-fuel' 'low-fuel' 'low-fuel'\n",
      " 'low-fuel' 'high-fuel' 'low-fuel' 'low-fuel' 'high-fuel' 'low-fuel'\n",
      " 'high-fuel' 'low-fuel' 'high-fuel' 'low-fuel' 'low-fuel' 'low-fuel'\n",
      " 'low-fuel' 'low-fuel' 'low-fuel' 'low-fuel' 'low-fuel' 'low-fuel'\n",
      " 'low-fuel' 'high-fuel' 'low-fuel' 'high-fuel' 'low-fuel' 'low-fuel'\n",
      " 'low-fuel' 'low-fuel' 'low-fuel' 'low-fuel' 'low-fuel' 'low-fuel'\n",
      " 'low-fuel' 'low-fuel' 'low-fuel' 'low-fuel' 'low-fuel' 'low-fuel'\n",
      " 'low-fuel']\n"
     ]
    }
   ],
   "source": [
    "model = DecisionTreeClassifier(criterion=\"entropy\", max_depth=3)\n",
    "model.fit(X_train, y_train)\n",
    "\n",
    "train_predicted = model.predict(X_train)\n",
    "y_predicted = model.predict(X_test)\n",
    "print(y_predicted)"
   ]
  },
  {
   "cell_type": "code",
   "execution_count": 31,
   "id": "a065091d",
   "metadata": {},
   "outputs": [
    {
     "name": "stdout",
     "output_type": "stream",
     "text": [
      "Test accuracy is 0.8925619834710744\n",
      "Train accuracy is 0.9501779359430605\n"
     ]
    },
    {
     "data": {
      "image/png": "[encoded data removed]",
      "text/plain": [
       "<Figure size 640x480 with 1 Axes>"
      ]
     },
     "metadata": {},
     "output_type": "display_data"
    }
   ],
   "source": [
    "print(\"Test accuracy is\", (accuracy_score(y_test, y_predicted)))\n",
    "print(\"Train accuracy is\", (accuracy_score(y_train, train_predicted)))\n",
    "plot_tree(model)\n",
    "plt.show()"
   ]
  },
  {
   "cell_type": "code",
   "execution_count": 32,
   "id": "70465564",
   "metadata": {},
   "outputs": [],
   "source": [
    "def train_decision_tree(X_train, y_train, X_test, y_test, depth):\n",
    "    accuracies = {}\n",
    "\n",
    "    # Train the Decision Tree model\n",
    "    model = DecisionTreeClassifier(criterion=\"entropy\", max_depth=depth)\n",
    "    model.fit(X_train, y_train)\n",
    "\n",
    "    # Predict on training and test sets\n",
    "    train_predicted = model.predict(X_train)\n",
    "    test_predicted = model.predict(X_test)\n",
    "\n",
    "    train_accuracy = accuracy_score(y_train, train_predicted)\n",
    "    test_accuracy = accuracy_score(y_test, test_predicted)\n",
    "\n",
    "    accuracies[depth] = {\n",
    "        'model': model,\n",
    "        'train_accuracy': train_accuracy,\n",
    "        'test_accuracy': test_accuracy\n",
    "    }\n",
    "\n",
    "    print(f\"Decision tree with max_depth = {depth}\")\n",
    "    print(f\"Test accuracy: {test_accuracy}\")\n",
    "    print(f\"Train accuracy: {train_accuracy}\")\n",
    "\n",
    "    plot_tree(model)\n",
    "    plt.show()\n",
    "\n",
    "    return accuracies"
   ]
  },
  {
   "cell_type": "code",
   "execution_count": 33,
   "id": "4d126d1a",
   "metadata": {},
   "outputs": [
    {
     "name": "stdout",
     "output_type": "stream",
     "text": [
      "Decision tree with max_depth = 3\n",
      "Test accuracy: 0.8925619834710744\n",
      "Train accuracy: 0.9501779359430605\n"
     ]
    },
    {
     "data": {
      "image/png": "[encoded data removed]",
      "text/plain": [
       "<Figure size 640x480 with 1 Axes>"
      ]
     },
     "metadata": {},
     "output_type": "display_data"
    }
   ],
   "source": [
    "model_info = train_decision_tree(X_train, y_train, X_test, y_test, 3)"
   ]
  },
  {
   "cell_type": "code",
   "execution_count": 34,
   "id": "e8600db1",
   "metadata": {},
   "outputs": [
    {
     "name": "stdout",
     "output_type": "stream",
     "text": [
      "Decision tree with max_depth = 5\n",
      "Test accuracy: 0.8925619834710744\n",
      "Train accuracy: 0.9572953736654805\n"
     ]
    },
    {
     "data": {
      "image/png": "[encoded data removed]",
      "text/plain": [
       "<Figure size 640x480 with 1 Axes>"
      ]
     },
     "metadata": {},
     "output_type": "display_data"
    }
   ],
   "source": [
    "model_info = train_decision_tree(X_train, y_train, X_test, y_test, 5)"
   ]
  },
  {
   "cell_type": "code",
   "execution_count": 35,
   "id": "8913520f",
   "metadata": {},
   "outputs": [
    {
     "name": "stdout",
     "output_type": "stream",
     "text": [
      "Decision tree with max_depth = 8\n",
      "Test accuracy: 0.8760330578512396\n",
      "Train accuracy: 0.9786476868327402\n"
     ]
    },
    {
     "data": {
      "image/png": "[encoded data removed]",
      "text/plain": [
       "<Figure size 640x480 with 1 Axes>"
      ]
     },
     "metadata": {},
     "output_type": "display_data"
    }
   ],
   "source": [
    "model_info = train_decision_tree(X_train, y_train, X_test, y_test, 8)"
   ]
  },
  {
   "cell_type": "markdown",
   "id": "8bdc460e",
   "metadata": {},
   "source": [
    "### Results Analysis\n",
    "- **Decision Tree with `max_depth = 3`**\n",
    "  - Test Accuracy: 89.26%\n",
    "  - Train Accuracy: 95.02%\n",
    "- **Decision Tree with `max_depth = 5`**\n",
    "  - Test Accuracy: 89.26%\n",
    "  - Train Accuracy: 95.73%\n",
    "- **Decision Tree with `max_depth = 8`**\n",
    "  - Test Accuracy: 89.26%\n",
    "  - Train Accuracy: 97.15%\n",
    "\n",
    "**Constant Test Accuracy**: The test accuracy remains constant at 89.26% despite increasing the tree depth. This suggests that deeper trees are not overfitting in a way that harms test accuracy. However, it also indicates that additional depth isn't improving the model's ability to generalize to unseen data.\n",
    "\n",
    "**Increasing Training Accuracy**: As the maximum depth increases, the training accuracy improves. This is expected, as deeper trees can capture more complex patterns in the training data, but it raises concerns about overfitting, especially in imbalanced datasets.\n",
    "\n",
    "### Measuring Accuracy in Imbalanced Datasets\n",
    "Accuracy is not always the best metric in imbalanced class problems. If one class significantly outnumbers the other, a model can achieve high accuracy simply by always predicting the majority class. In such cases, other metrics like Precision, Recall, F1 Score, or the Area Under the Receiver Operating Characteristic Curve (ROC AUC) can provide a more nuanced view of the model's performance.\n",
    "\n",
    "- **Precision** measures the accuracy of positive predictions.\n",
    "- **Recall** (or Sensitivity) measures the ability of a classifier to find all positive instances.\n",
    "- **F1 Score** is the harmonic mean of Precision and Recall and is a balance between them.\n",
    "- **ROC AUC** evaluates the classifier's ability to differentiate between classes."
   ]
  }
 ],
 "metadata": {
  "kernelspec": {
   "display_name": "Python 3 (ipykernel)",
   "language": "python",
   "name": "python3"
  },
  "language_info": {
   "codemirror_mode": {
    "name": "ipython",
    "version": 3
   },
   "file_extension": ".py",
   "mimetype": "text/x-python",
   "name": "python",
   "nbconvert_exporter": "python",
   "pygments_lexer": "ipython3",
   "version": "3.11.5"
  }
 },
 "nbformat": 4,
 "nbformat_minor": 5
}
